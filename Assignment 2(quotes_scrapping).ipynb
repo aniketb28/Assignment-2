{
 "cells": [
  {
   "attachments": {},
   "cell_type": "markdown",
   "id": "66216694",
   "metadata": {},
   "source": [
    "# Web Scraping Quotes from a Website\n"
   ]
  },
  {
   "cell_type": "code",
   "execution_count": 1,
   "id": "a42a1454",
   "metadata": {},
   "outputs": [],
   "source": [
    "import pandas as pd\n",
    "from bs4 import BeautifulSoup\n",
    "import requests"
   ]
  },
  {
   "attachments": {},
   "cell_type": "markdown",
   "id": "14d20333",
   "metadata": {},
   "source": [
    "### Step 1: Fetch the webpage"
   ]
  },
  {
   "cell_type": "code",
   "execution_count": 2,
   "id": "00eddca3",
   "metadata": {},
   "outputs": [],
   "source": [
    "url = 'http://quotes.toscrape.com/page/1/'\n",
    "response = requests.get(url)\n",
    "response = response.content"
   ]
  },
  {
   "attachments": {},
   "cell_type": "markdown",
   "id": "43f3d9a9",
   "metadata": {},
   "source": [
    "### Step 2: Parse the HTML content using BeautifulSoup"
   ]
  },
  {
   "cell_type": "code",
   "execution_count": 3,
   "id": "21f741da",
   "metadata": {},
   "outputs": [],
   "source": [
    "soup = BeautifulSoup(response, 'html.parser')"
   ]
  },
  {
   "attachments": {},
   "cell_type": "markdown",
   "id": "0032ec45",
   "metadata": {},
   "source": [
    "### Step 3: Extract quotes"
   ]
  },
  {
   "cell_type": "code",
   "execution_count": 4,
   "id": "fa7b525c",
   "metadata": {},
   "outputs": [
    {
     "name": "stdout",
     "output_type": "stream",
     "text": [
      "Quotes:\n",
      "['“The world as we have created it is a process of our thinking. It cannot be changed without changing our thinking.”', '“It is our choices, Harry, that show what we truly are, far more than our abilities.”', '“There are only two ways to live your life. One is as though nothing is a miracle. The other is as though everything is a miracle.”', '“The person, be it gentleman or lady, who has not pleasure in a good novel, must be intolerably stupid.”', \"“Imperfection is beauty, madness is genius and it's better to be absolutely ridiculous than absolutely boring.”\", '“Try not to become a man of success. Rather become a man of value.”', '“It is better to be hated for what you are than to be loved for what you are not.”', \"“I have not failed. I've just found 10,000 ways that won't work.”\", \"“A woman is like a tea bag; you never know how strong it is until it's in hot water.”\", '“A day without sunshine is like, you know, night.”']\n"
     ]
    }
   ],
   "source": [
    "all_quotes = soup.find_all('span', class_='text')\n",
    "quotes = []\n",
    "\n",
    "for quote in all_quotes:\n",
    "    quote = quote.text.strip()\n",
    "    quotes.append(quote)\n",
    "\n",
    "print(\"Quotes:\")\n",
    "print(quotes)"
   ]
  },
  {
   "attachments": {},
   "cell_type": "markdown",
   "id": "dae53c33",
   "metadata": {},
   "source": [
    "### Step 4: Extract authors"
   ]
  },
  {
   "cell_type": "code",
   "execution_count": 5,
   "id": "c1a4d331",
   "metadata": {},
   "outputs": [
    {
     "name": "stdout",
     "output_type": "stream",
     "text": [
      "Author: Albert Einstein\n",
      "Author: J.K. Rowling\n",
      "Author: Albert Einstein\n",
      "Author: Jane Austen\n",
      "Author: Marilyn Monroe\n",
      "Author: Albert Einstein\n",
      "Author: André Gide\n",
      "Author: Thomas A. Edison\n",
      "Author: Eleanor Roosevelt\n",
      "Author: Steve Martin\n"
     ]
    }
   ],
   "source": [
    "authors = soup.find_all('small', class_='author')\n",
    "quote_authors = []\n",
    "\n",
    "for author_ in authors:\n",
    "    author = author_.text\n",
    "    quote_authors.append(author)\n",
    "    print(\"Author:\", author)"
   ]
  },
  {
   "attachments": {},
   "cell_type": "markdown",
   "id": "a58fb28d",
   "metadata": {},
   "source": [
    "### Step 5: Extract keywords"
   ]
  },
  {
   "cell_type": "code",
   "execution_count": 6,
   "id": "52bc561b",
   "metadata": {},
   "outputs": [
    {
     "name": "stdout",
     "output_type": "stream",
     "text": [
      "Keywords: change,deep-thoughts,thinking,world\n",
      "Keywords: abilities,choices\n",
      "Keywords: inspirational,life,live,miracle,miracles\n",
      "Keywords: aliteracy,books,classic,humor\n",
      "Keywords: be-yourself,inspirational\n",
      "Keywords: adulthood,success,value\n",
      "Keywords: life,love\n",
      "Keywords: edison,failure,inspirational,paraphrased\n",
      "Keywords: misattributed-eleanor-roosevelt\n",
      "Keywords: humor,obvious,simile\n"
     ]
    }
   ],
   "source": [
    "tags = soup.find_all('meta', class_='keywords')\n",
    "keywords = []\n",
    "\n",
    "for key in tags:\n",
    "    keyword = key['content']\n",
    "    keywords.append(keyword)\n",
    "    print(\"Keywords:\", keyword)"
   ]
  },
  {
   "attachments": {},
   "cell_type": "markdown",
   "id": "681f0cd4",
   "metadata": {},
   "source": [
    "### Step 6: Create a DataFrame to store the data"
   ]
  },
  {
   "cell_type": "code",
   "execution_count": 7,
   "id": "7452ab7e",
   "metadata": {},
   "outputs": [],
   "source": [
    "data = {\n",
    "    'Author': quote_authors,\n",
    "    'Quotes': quotes,\n",
    "    'Keywords': keywords\n",
    "       }\n",
    "df = pd.DataFrame(data)"
   ]
  },
  {
   "attachments": {},
   "cell_type": "markdown",
   "id": "c36bd5f4",
   "metadata": {},
   "source": [
    "### Step 7: Resetting the Index"
   ]
  },
  {
   "cell_type": "code",
   "execution_count": 8,
   "id": "84640ff1",
   "metadata": {},
   "outputs": [
    {
     "data": {
      "text/html": [
       "<div>\n",
       "<style scoped>\n",
       "    .dataframe tbody tr th:only-of-type {\n",
       "        vertical-align: middle;\n",
       "    }\n",
       "\n",
       "    .dataframe tbody tr th {\n",
       "        vertical-align: top;\n",
       "    }\n",
       "\n",
       "    .dataframe thead th {\n",
       "        text-align: right;\n",
       "    }\n",
       "</style>\n",
       "<table border=\"1\" class=\"dataframe\">\n",
       "  <thead>\n",
       "    <tr style=\"text-align: right;\">\n",
       "      <th></th>\n",
       "      <th>Author</th>\n",
       "      <th>Quotes</th>\n",
       "      <th>Keywords</th>\n",
       "    </tr>\n",
       "  </thead>\n",
       "  <tbody>\n",
       "    <tr>\n",
       "      <th>1</th>\n",
       "      <td>Albert Einstein</td>\n",
       "      <td>“The world as we have created it is a process ...</td>\n",
       "      <td>change,deep-thoughts,thinking,world</td>\n",
       "    </tr>\n",
       "    <tr>\n",
       "      <th>2</th>\n",
       "      <td>J.K. Rowling</td>\n",
       "      <td>“It is our choices, Harry, that show what we t...</td>\n",
       "      <td>abilities,choices</td>\n",
       "    </tr>\n",
       "    <tr>\n",
       "      <th>3</th>\n",
       "      <td>Albert Einstein</td>\n",
       "      <td>“There are only two ways to live your life. On...</td>\n",
       "      <td>inspirational,life,live,miracle,miracles</td>\n",
       "    </tr>\n",
       "    <tr>\n",
       "      <th>4</th>\n",
       "      <td>Jane Austen</td>\n",
       "      <td>“The person, be it gentleman or lady, who has ...</td>\n",
       "      <td>aliteracy,books,classic,humor</td>\n",
       "    </tr>\n",
       "    <tr>\n",
       "      <th>5</th>\n",
       "      <td>Marilyn Monroe</td>\n",
       "      <td>“Imperfection is beauty, madness is genius and...</td>\n",
       "      <td>be-yourself,inspirational</td>\n",
       "    </tr>\n",
       "    <tr>\n",
       "      <th>6</th>\n",
       "      <td>Albert Einstein</td>\n",
       "      <td>“Try not to become a man of success. Rather be...</td>\n",
       "      <td>adulthood,success,value</td>\n",
       "    </tr>\n",
       "    <tr>\n",
       "      <th>7</th>\n",
       "      <td>André Gide</td>\n",
       "      <td>“It is better to be hated for what you are tha...</td>\n",
       "      <td>life,love</td>\n",
       "    </tr>\n",
       "    <tr>\n",
       "      <th>8</th>\n",
       "      <td>Thomas A. Edison</td>\n",
       "      <td>“I have not failed. I've just found 10,000 way...</td>\n",
       "      <td>edison,failure,inspirational,paraphrased</td>\n",
       "    </tr>\n",
       "    <tr>\n",
       "      <th>9</th>\n",
       "      <td>Eleanor Roosevelt</td>\n",
       "      <td>“A woman is like a tea bag; you never know how...</td>\n",
       "      <td>misattributed-eleanor-roosevelt</td>\n",
       "    </tr>\n",
       "    <tr>\n",
       "      <th>10</th>\n",
       "      <td>Steve Martin</td>\n",
       "      <td>“A day without sunshine is like, you know, nig...</td>\n",
       "      <td>humor,obvious,simile</td>\n",
       "    </tr>\n",
       "  </tbody>\n",
       "</table>\n",
       "</div>"
      ],
      "text/plain": [
       "               Author                                             Quotes  \\\n",
       "1     Albert Einstein  “The world as we have created it is a process ...   \n",
       "2        J.K. Rowling  “It is our choices, Harry, that show what we t...   \n",
       "3     Albert Einstein  “There are only two ways to live your life. On...   \n",
       "4         Jane Austen  “The person, be it gentleman or lady, who has ...   \n",
       "5      Marilyn Monroe  “Imperfection is beauty, madness is genius and...   \n",
       "6     Albert Einstein  “Try not to become a man of success. Rather be...   \n",
       "7          André Gide  “It is better to be hated for what you are tha...   \n",
       "8    Thomas A. Edison  “I have not failed. I've just found 10,000 way...   \n",
       "9   Eleanor Roosevelt  “A woman is like a tea bag; you never know how...   \n",
       "10       Steve Martin  “A day without sunshine is like, you know, nig...   \n",
       "\n",
       "                                    Keywords  \n",
       "1        change,deep-thoughts,thinking,world  \n",
       "2                          abilities,choices  \n",
       "3   inspirational,life,live,miracle,miracles  \n",
       "4              aliteracy,books,classic,humor  \n",
       "5                  be-yourself,inspirational  \n",
       "6                    adulthood,success,value  \n",
       "7                                  life,love  \n",
       "8   edison,failure,inspirational,paraphrased  \n",
       "9            misattributed-eleanor-roosevelt  \n",
       "10                      humor,obvious,simile  "
      ]
     },
     "execution_count": 8,
     "metadata": {},
     "output_type": "execute_result"
    }
   ],
   "source": [
    "df.index=df.index+1\n",
    "df"
   ]
  },
  {
   "attachments": {},
   "cell_type": "markdown",
   "id": "3c8d3827",
   "metadata": {},
   "source": [
    "### Step 7: Saving file in CSV format"
   ]
  },
  {
   "cell_type": "code",
   "execution_count": 11,
   "id": "c4db666e",
   "metadata": {},
   "outputs": [],
   "source": [
    "df.to_csv(r'C:\\Users\\prasad bolgss\\OneDrive\\Desktop\\Internship\\Assignment 2(quotes_scrape)\\quotes_scrape.csv')"
   ]
  }
 ],
 "metadata": {
  "kernelspec": {
   "display_name": "Python 3",
   "language": "python",
   "name": "python3"
  },
  "language_info": {
   "codemirror_mode": {
    "name": "ipython",
    "version": 3
   },
   "file_extension": ".py",
   "mimetype": "text/x-python",
   "name": "python",
   "nbconvert_exporter": "python",
   "pygments_lexer": "ipython3",
   "version": "3.9.12"
  }
 },
 "nbformat": 4,
 "nbformat_minor": 5
}
